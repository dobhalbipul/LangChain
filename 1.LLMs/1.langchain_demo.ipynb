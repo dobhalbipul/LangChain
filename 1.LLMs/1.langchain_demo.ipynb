{
 "cells": [
  {
   "cell_type": "markdown",
   "id": "428da86e",
   "metadata": {},
   "source": [
    "### Langchain "
   ]
  },
  {
   "cell_type": "code",
   "execution_count": 17,
   "id": "b6760d77",
   "metadata": {},
   "outputs": [
    {
     "name": "stdout",
     "output_type": "stream",
     "text": [
      "**Elegant & Evocative:**\n",
      "\n",
      "* Saffron & Silk\n",
      "* The Spice Merchant\n",
      "* The Jewel of India\n",
      "* Maharaja's Table\n",
      "* Rani's Kitchen\n",
      "* Indus Dreams\n",
      "* The Peacock Throne\n",
      "* Amber Palace\n",
      "* Cinnamon & Cardamom\n",
      "* The Ganges Grill\n",
      "\n",
      "**Modern & Chic:**\n",
      "\n",
      "* Masala & Mint\n",
      "* Curry & Craft\n",
      "* Tandoor & Tonic\n",
      "* Spice Route Bistro\n",
      "* The Chili Chapter\n",
      "* Saffron & Sage\n",
      "* The Curry Leaf\n",
      "* Cumin & Coriander\n",
      "* Ginger & Garlic\n",
      "* The Tamarind Tree\n",
      "\n",
      "**Playful & Unique:**\n",
      "\n",
      "* Tikka Chance on Me\n",
      "* Naan Stop Cafe\n",
      "* Curry Up Now\n",
      "* Butter Chicken Blues\n",
      "* Samosa Station\n",
      "* Chutney Chatter\n",
      "* Biryani Beats\n",
      "* Masala Magic\n",
      "* The Roti Roller\n",
      "* Dosa Delight\n",
      "\n",
      "\n",
      "**Tips for choosing the best name:**\n",
      "\n",
      "* **Consider your target audience:**  A more formal name might attract a different clientele than a fun, quirky one.\n",
      "* **Keep it short and memorable:**  Easy to recall and pronounce.\n",
      "* **Check for availability:** Make sure the name isn't already in use (especially locally) and that the domain name is available if you plan to have a website.\n",
      "* **Get feedback:** Ask friends and family for their opinions on your favorite names.\n",
      "\n",
      "\n",
      "Good luck with your restaurant!  I hope it's a delicious success.\n"
     ]
    }
   ],
   "source": [
    "# import gemini langchain library\n",
    "from langchain_google_genai import ChatGoogleGenerativeAI\n",
    "from dotenv import load_dotenv\n",
    "#load environment variables from .env file\n",
    "load_dotenv()\n",
    "\n",
    "# This script initializes the Gemini model from the LangChain library and prompts it to generate a response.\n",
    "#initialize the Gemini model\n",
    "llm = ChatGoogleGenerativeAI(model=\"gemini-1.5-pro\", temperature=0.7)\n",
    "#prompt the model to generate a response\n",
    "response = llm.invoke(\"I want to open a restaurant for Indian food. Suggest a fency name for this.\")\n",
    "#print the response \n",
    "print(response.content)\n"
   ]
  },
  {
   "cell_type": "markdown",
   "id": "73a9c4fd",
   "metadata": {},
   "source": [
    "### Prompt Templates"
   ]
  },
  {
   "cell_type": "code",
   "execution_count": 6,
   "id": "a2d8987d",
   "metadata": {},
   "outputs": [
    {
     "name": "stdout",
     "output_type": "stream",
     "text": [
      "I want to open a restaurant for Italian food. Suggest a fency name for this.\n"
     ]
    }
   ],
   "source": [
    "from langchain.prompts import PromptTemplate\n",
    "\n",
    "prompt_template_name = PromptTemplate(\n",
    "    input_variables =['cuisine'],\n",
    "    template = \"I want to open a restaurant for {cuisine} food. Suggest a fency name for this.\"\n",
    ")\n",
    "p = prompt_template_name.format(cuisine=\"Italian\")\n",
    "print(p)"
   ]
  },
  {
   "cell_type": "markdown",
   "id": "3eb16fd7",
   "metadata": {},
   "source": [
    "### Chains"
   ]
  },
  {
   "cell_type": "code",
   "execution_count": null,
   "id": "27228feb",
   "metadata": {},
   "outputs": [
    {
     "name": "stderr",
     "output_type": "stream",
     "text": [
      "C:\\Users\\bdobhalx\\AppData\\Local\\Temp\\ipykernel_7140\\723744833.py:3: LangChainDeprecationWarning: The class `LLMChain` was deprecated in LangChain 0.1.17 and will be removed in 1.0. Use :meth:`~RunnableSequence, e.g., `prompt | llm`` instead.\n",
      "  chain = LLMChain(llm=llm, prompt=prompt_template_name)\n",
      "C:\\Users\\bdobhalx\\AppData\\Local\\Temp\\ipykernel_7140\\723744833.py:4: LangChainDeprecationWarning: The method `Chain.run` was deprecated in langchain 0.1.0 and will be removed in 1.0. Use :meth:`~invoke` instead.\n",
      "  chain.run(\"Mexican\")\n"
     ]
    },
    {
     "data": {
      "text/plain": [
       "\"**Elegant & Evocative:**\\n\\n* Casa de Luna (House of the Moon)\\n* Sol y Sombra (Sun and Shadow)\\n* Azúcar y Sal (Sugar and Salt)\\n* Cielo Abierto (Open Sky)\\n* Flores del Desierto (Desert Flowers)\\n* Canto de la Tierra (Song of the Earth)\\n* La Hacienda Encantada (The Enchanted Hacienda)\\n* El Jardín Secreto (The Secret Garden)\\n* Brisa del Mar (Sea Breeze) (If seafood is prominent)\\n* La Cocina de Oro (The Golden Kitchen)\\n\\n**Modern & Chic:**\\n\\n* Agave Azul (Blue Agave)\\n* Chiles & Chocolate\\n* Mezcaleria Moderna\\n* Cantina Colibrí (Hummingbird Cantina)\\n* Oaxaca Nights\\n* Tierra Mía (My Land)\\n* El Sabor (The Flavor)\\n\\n**Playful & Unique:**\\n\\n* The Spicy Señorita\\n* El Guapo's Grill\\n* Holy Mole!\\n* Taco Temptation\\n* Salsa & Soul\\n* Fiesta Forever\\n\\n**Tips for Choosing the Best Name:**\\n\\n* **Consider your target audience:**  A more formal name might attract a different clientele than a fun, casual one.\\n* **Keep it short and memorable:**  Easy to say, easy to remember.\\n* **Check for availability:** Make sure the name isn't already taken (especially online).\\n* **Get feedback:**  Ask friends and family for their opinions.\\n* **Think about branding:** How will the name translate to a logo and overall aesthetic?\\n\\n\\nGood luck with your restaurant!  I hope this helps you find the perfect name.\""
      ]
     },
     "execution_count": 7,
     "metadata": {},
     "output_type": "execute_result"
    }
   ],
   "source": [
    "from langchain.chains import LLMChain\n",
    "\n",
    "chain = LLMChain(llm=llm, prompt=prompt_template_name)\n",
    "chain.run(\"Mexican\")"
   ]
  },
  {
   "cell_type": "code",
   "execution_count": null,
   "id": "37969725",
   "metadata": {},
   "outputs": [
    {
     "name": "stdout",
     "output_type": "stream",
     "text": [
      "\n",
      "\n",
      "\u001b[1m> Entering new LLMChain chain...\u001b[0m\n",
      "Prompt after formatting:\n",
      "\u001b[32;1m\u001b[1;3mI want to open a restaurant for Mexican food. Suggest a fency name for this.\u001b[0m\n",
      "\n",
      "\u001b[1m> Finished chain.\u001b[0m\n"
     ]
    },
    {
     "data": {
      "text/plain": [
       "'**Elegant & Evocative:**\\n\\n* Casa de Luna (House of the Moon)\\n* Sol y Sombra (Sun and Shadow)\\n* Azalea Cocina (Azalea Kitchen)\\n* Cielito Lindo Restaurante (Beautiful Little Sky Restaurant)\\n* Flor de Maíz (Cornflower)\\n* Hacienda Esmeralda (Emerald Hacienda)\\n* Cantina de Estrellas (Cantina of Stars)\\n\\n**Modern & Chic:**\\n\\n* Agave & Ember\\n* Chroma Cocina\\n* Oaxaca Moderne\\n* Maya & Mezcal\\n* The Cilantro Leaf\\n* Tierra & Fuego (Earth & Fire)\\n* Mercado Mexicano (Mexican Market - but upscale sounding)\\n\\n**Playful & Sophisticated:**\\n\\n* El Colibrí (The Hummingbird)\\n* La Mariposa (The Butterfly)\\n* The Painted Pepper\\n* The Jalapeño & The Rose\\n* The Secret Garden Taqueria\\n* Whispers of Oaxaca\\n\\n**Location Specific (If applicable):**\\n\\n* [Your City/Neighborhood] Cantina\\n* [Local Landmark] Cocina\\n\\n**Tips for Choosing:**\\n\\n* **Consider your target audience:**  Are you aiming for a fine-dining experience or something more casual but still upscale?\\n* **Check for existing restaurants with similar names:** You want a unique name that stands out.\\n* **Make sure the name is easy to pronounce and remember.**\\n* **Get feedback from others:** Ask friends and family for their opinions.\\n\\n\\nGood luck with your restaurant!'"
      ]
     },
     "execution_count": 8,
     "metadata": {},
     "output_type": "execute_result"
    }
   ],
   "source": [
    "chain = LLMChain(llm=llm, prompt=prompt_template_name, verbose=True) #verbose=True will print the prompt\n",
    "# Run the chain with a specific cuisine\n",
    "chain.run(\"Mexican\")"
   ]
  },
  {
   "cell_type": "code",
   "execution_count": 9,
   "id": "4c41544c",
   "metadata": {},
   "outputs": [],
   "source": [
    "prompt_template_name = PromptTemplate(\n",
    "    input_variables =['cuisine'],\n",
    "    template = \"I want to open a restaurant for {cuisine} food. Suggest a fency name for this.\"\n",
    ")\n",
    "\n",
    "name_chain =LLMChain(llm=llm, prompt=prompt_template_name)\n",
    "\n",
    "prompt_template_items = PromptTemplate(\n",
    "    input_variables = ['restaurant_name'],\n",
    "    template=\"\"\"Suggest some menu items for {restaurant_name}\"\"\"\n",
    ")\n",
    "\n",
    "food_items_chain = LLMChain(llm=llm, prompt=prompt_template_items)"
   ]
  },
  {
   "cell_type": "markdown",
   "id": "3658361d",
   "metadata": {},
   "source": [
    "### Simple Sequential Chain\n"
   ]
  },
  {
   "cell_type": "code",
   "execution_count": 10,
   "id": "ca9fe95f",
   "metadata": {},
   "outputs": [
    {
     "name": "stdout",
     "output_type": "stream",
     "text": [
      "## Menu Item Suggestions:\n",
      "\n",
      "**Elegant & Evocative:**\n",
      "\n",
      "* **Saffron & Silk:**  Lobster Malai Curry, Rose Petal Kulfi, Saffron-infused Biryani, Kashmiri Rogan Josh\n",
      "* **The Spice Merchant:** Tandoori Quail with Fig Chutney,  Lamb Shank Vindaloo, Spiced Mango Lassi\n",
      "* **Jewel of India:**  Paneer Tikka Masala with jeweled rice, Hyderabadi Dum Biryani,  Pistachio and Cardamom Burfi\n",
      "* **The Maharaja's Table:**  Thali Platter with regional specialties,  Royal Lamb Korma,  Galouti Kebab\n",
      "* **The Peacock Throne:**  Peacock-shaped Naan,  Malabar Fish Curry,  Mango & Coconut Pudding\n",
      "\n",
      "\n",
      "**Modern & Chic:**\n",
      "\n",
      "* **Masala & Mint:** Deconstructed Samosas,  Tandoori Salmon with Mint Chutney,  Spicy Watermelon Salad\n",
      "* **Tandoor & Turmeric:** Turmeric-infused Cocktails,  Tandoori Lamb Chops,  Charred Broccoli with Tahini Yogurt\n",
      "* **Chilli & Chaat:**  Street Food Platter with Pani Puri, Bhel Puri, Sev Puri,  Spicy Chicken Lollipops\n",
      "* **Curry & Craft:**  Craft Beer pairings with regional curries,  Butter Chicken Poutine,  Spiced Lamb Burger\n",
      "\n",
      "\n",
      "**Playful & Creative:**\n",
      "\n",
      "* **Naan Stop:**  Naan Pizza,  Naan Bread Pudding,  Naan Wraps with various fillings\n",
      "* **Curry Up!:**  Curry of the Day,  Curry Tasting Flight,  Curry-flavored Popcorn\n",
      "* **Tikka Chance on Me:**  Tandoori Chicken Tikka Skewers,  Tikka Masala Fries,  Tikka Pizza\n",
      "* **Butter Chicken & Chill:**  Butter Chicken Pizza,  Butter Chicken Tacos,  Butter Chicken Mac & Cheese\n",
      "\n",
      "\n",
      "**Example Menu Item Descriptions (Elegant & Evocative):**\n",
      "\n",
      "* **Kashmiri Rogan Josh:** Slow-cooked lamb shanks simmered in a rich, aromatic gravy of Kashmiri chilies, saffron, and warming spices.\n",
      "* **Rose Petal Kulfi:**  A delicate frozen dessert infused with the fragrant essence of rose petals, served with a drizzle of honey.\n",
      "* **Peacock-shaped Naan:**  Freshly baked naan bread artfully shaped like a peacock, perfect for sharing.\n",
      "\n",
      "\n",
      "**Example Menu Item Descriptions (Modern & Chic):**\n",
      "\n",
      "* **Deconstructed Samosas:** Crispy pastry shells filled with spiced potatoes and peas, served with a side of tamarind chutney and mint yogurt.\n",
      "* **Tandoori Lamb Chops:** Tender lamb chops marinated in a blend of yogurt and spices, cooked in the tandoor oven to perfection.\n",
      "* **Spicy Watermelon Salad:**  A refreshing salad of watermelon, feta cheese, mint, and a spicy chili dressing.\n",
      "\n",
      "\n",
      "**Example Menu Item Descriptions (Playful & Creative):**\n",
      "\n",
      "* **Naan Pizza:**  A playful twist on a classic, with naan bread as the base, topped with your favorite pizza toppings.\n",
      "* **Curry Tasting Flight:**  A sampler of three different curries, perfect for exploring the diverse flavors of Indian cuisine.\n",
      "* **Butter Chicken Tacos:**  A fusion dish combining the creamy richness of butter chicken with the crispy crunch of taco shells.\n",
      "\n",
      "\n",
      "Remember to tailor your menu to your specific concept and target audience. Consider offering vegetarian, vegan, and gluten-free options.  Don't forget about drinks!  Offer a selection of Indian teas, lassis, cocktails, and wines that complement your menu.\n"
     ]
    }
   ],
   "source": [
    "from langchain.chains import SimpleSequentialChain\n",
    "chain = SimpleSequentialChain(chains = [name_chain, food_items_chain])\n",
    "\n",
    "content = chain.run(\"Indian\")\n",
    "print(content)"
   ]
  },
  {
   "cell_type": "markdown",
   "id": "412c2d12",
   "metadata": {},
   "source": [
    "### Sequential Chain"
   ]
  },
  {
   "cell_type": "code",
   "execution_count": 12,
   "id": "9ca79880",
   "metadata": {},
   "outputs": [],
   "source": [
    "prompt_template_name = PromptTemplate(\n",
    "    input_variables =['cuisine'],\n",
    "    template = \"I want to open a restaurant for {cuisine} food. Suggest a fency name for this.\"\n",
    ")\n",
    "\n",
    "name_chain =LLMChain(llm=llm, prompt=prompt_template_name, output_key=\"restaurant_name\")\n",
    "\n",
    "prompt_template_items = PromptTemplate(\n",
    "    input_variables = ['restaurant_name'],\n",
    "    template=\"Suggest some menu items for {restaurant_name}.\"\n",
    ")\n",
    "\n",
    "food_items_chain =LLMChain(llm=llm, prompt=prompt_template_items, output_key=\"menu_items\")"
   ]
  },
  {
   "cell_type": "code",
   "execution_count": 14,
   "id": "95d90a82",
   "metadata": {},
   "outputs": [
    {
     "name": "stderr",
     "output_type": "stream",
     "text": [
      "C:\\Users\\bdobhalx\\AppData\\Local\\Temp\\ipykernel_7140\\3493026988.py:8: LangChainDeprecationWarning: The method `Chain.__call__` was deprecated in langchain 0.1.0 and will be removed in 1.0. Use :meth:`~invoke` instead.\n",
      "  chain({\"cuisine\": \"Indian\"})\n"
     ]
    },
    {
     "data": {
      "text/plain": [
       "{'cuisine': 'Indian',\n",
       " 'restaurant_name': \"**Elegant & Evocative:**\\n\\n* Saffron & Silk\\n* The Spice Merchant\\n* Jewel of India\\n* Maharaja's Table\\n* The Peacock Throne\\n* Indus Dreams\\n* Amber & Clove\\n* The Cinnamon Leaf\\n* The Cardamom Pod\\n* The Ganges Grill\\n\\n**Modern & Chic:**\\n\\n* Masala & Mint\\n* Tandoor & Turmeric\\n* Chilli & Chaat\\n* Curry & Craft\\n* Naan & Now\\n* Spice Route 2.0\\n* The Bombay Bistro\\n* Delhi Delights\\n* The Kolkata Kitchen\\n* Bangalore Bites\\n\\n**Playful & Unique:**\\n\\n* Tikka Chance on Me\\n* Curry Favor\\n* Naan Stop Me Now\\n* Butter Chicken Bliss\\n* Samosa Sunrise\\n* Chai & Chill\\n* The Spice Racket\\n* Holy Cow!\\n* Curry Up Now\\n* Masala Magic\\n\\n**Location Specific (if applicable):**\\n\\n* [Your City/Neighborhood] Spice House\\n* The [Local Landmark] Tandoor\\n* [River/Mountain] Indian Kitchen\\n\\n\\n**Tips for Choosing a Name:**\\n\\n* **Keep it short and memorable:**  Easy to say and recall.\\n* **Reflect your restaurant's concept:** Fine dining, casual, regional cuisine, etc.\\n* **Check for availability:** Make sure the name isn't already taken (website domain, social media handles).\\n* **Get feedback:** Ask potential customers what they think of your name ideas.\\n\\n\\nGood luck with your restaurant!\",\n",
       " 'menu_items': '## Menu Item Suggestions:\\n\\n**Elegant & Evocative:**\\n\\n* **Saffron & Silk:**  Kashmiri Rogan Josh, Dum Biryani, Saffron-infused Kulfi, Pistachio and Rosewater Phirni\\n* **The Spice Merchant:**  Tandoori Quail with Star Anise, Lamb Korma with Cardamom and Cloves,  Mango Lassi with Saffron Threads\\n* **Jewel of India:**  Seafood Platter with Tandoori Prawns, Fish Tikka, and Scallops,  Bejeweled Rice Pilaf with Dried Fruits and Nuts\\n* **Maharaja\\'s Table:**  Thali Platter with Assorted Curries, Breads, and Accompaniments,  Royal Rajasthani Laal Maas\\n* **The Peacock Throne:**  Peacock-shaped Naan Bread with Dipping Sauces,  Malai Kofta in a creamy cashew sauce\\n* **Indus Dreams:**  Slow-cooked Dal Makhani,  Tandoori Salmon with Lemon and Dill\\n* **Amber & Clove:**  Smoked Lamb Chops with Clove and Cinnamon,  Apricot and Almond Chutney\\n* **The Cinnamon Leaf:**  Cinnamon-infused Chicken Curry,  Spiced Rice Pudding with Caramelized Cinnamon\\n* **The Cardamom Pod:**  Cardamom-scented Biryani,  Rose and Cardamom Kulfi\\n* **The Ganges Grill:**  Grilled Fish marinated in Ginger and Turmeric, Tandoori Vegetables\\n\\n\\n**Modern & Chic:**\\n\\n* **Masala & Mint:**  Deconstructed Samosas with Mint Chutney,  Spicy Lamb Meatballs with Mint Yogurt Dip\\n* **Tandoor & Turmeric:**  Tandoori Chicken with Turmeric Marinade,  Turmeric-infused Cocktails\\n* **Chilli & Chaat:**  Assortment of Chaat items with varying spice levels,  Chilli-Garlic Naan\\n* **Curry & Craft:**  Signature Curries paired with Craft Beers,  Modern interpretations of classic dishes\\n* **Naan & Now:**  Gourmet Naan Pizzas,  Naan Bread Sandwiches with contemporary fillings\\n* **Spice Route 2.0:**  Fusion dishes blending Indian flavors with international cuisines\\n* **The Bombay Bistro:**  Street food-inspired dishes with a modern twist,  Bombay Duck Fry\\n* **Delhi Delights:**  Butter Chicken, Chole Bhature, Dahi Puri\\n* **The Kolkata Kitchen:**  Kosha Mangsho (Mutton Curry),  Fish Paturi (Fish steamed in banana leaf)\\n* **Bangalore Bites:**  Bisi Bele Bath (Lentil and Rice dish),  Dosa with various fillings\\n\\n\\n\\n**Playful & Unique:**\\n\\n* **Tikka Chance on Me:**  Chicken Tikka Skewers with a playful presentation\\n* **Curry Favor:**  \"Build Your Own Curry\" option with customizable ingredients\\n* **Naan Stop Me Now:**  Naan Bread served with a variety of dips and spreads\\n* **Butter Chicken Bliss:**  Decadent Butter Chicken with extra cream and butter\\n* **Samosa Sunrise:**  Breakfast Samosas filled with scrambled eggs and spices\\n* **Chai & Chill:**  Unique Chai blends and Iced Chai options\\n* **The Spice Racket:**  Mystery Curry of the Day,  \"Spice Challenge\" for adventurous diners\\n* **Holy Cow!:**  Beef-based Indian dishes (if applicable)\\n* **Curry Up Now:**  Express lunch menu featuring quick and easy curries\\n* **Masala Magic:**  Interactive dining experience with tableside cooking or spice blending\\n\\n\\n**Location Specific:**\\n\\n* **[Your City/Neighborhood] Spice House:**  Dishes featuring local ingredients and flavors.\\n* **The [Local Landmark] Tandoor:**  Tandoori specialties named after local landmarks.\\n* **[River/Mountain] Indian Kitchen:**  Dishes inspired by the local geography and produce.\\n\\n\\nRemember to consider your target audience and price point when creating your menu.  Offer a balance of vegetarian, vegan, and non-vegetarian options.  Don\\'t forget about desserts and drinks! Good luck!'}"
      ]
     },
     "execution_count": 14,
     "metadata": {},
     "output_type": "execute_result"
    }
   ],
   "source": [
    "from langchain.chains import SequentialChain\n",
    "\n",
    "chain = SequentialChain(\n",
    "    chains = [name_chain, food_items_chain],\n",
    "    input_variables = ['cuisine'],\n",
    "    output_variables = ['restaurant_name', \"menu_items\"]\n",
    ")\n",
    "chain({\"cuisine\": \"Indian\"})"
   ]
  },
  {
   "cell_type": "markdown",
   "id": "839aab8d",
   "metadata": {},
   "source": [
    "### Agents"
   ]
  },
  {
   "cell_type": "code",
   "execution_count": null,
   "id": "e9ff6aed",
   "metadata": {},
   "outputs": [],
   "source": [
    "# !pip install google-search-results\n",
    "# !pip install numexpr"
   ]
  },
  {
   "cell_type": "code",
   "execution_count": 20,
   "id": "20501def",
   "metadata": {},
   "outputs": [
    {
     "name": "stderr",
     "output_type": "stream",
     "text": [
      "C:\\Users\\bdobhalx\\AppData\\Local\\Temp\\ipykernel_7140\\2385118247.py:11: LangChainDeprecationWarning: LangChain agents will continue to be supported, but it is recommended for new use cases to be built with LangGraph. LangGraph offers a more flexible and full-featured framework for building agents, including support for tool-calling, persistence of state, and human-in-the-loop workflows. For details, refer to the `LangGraph documentation <https://langchain-ai.github.io/langgraph/>`_ as well as guides for `Migrating from AgentExecutor <https://python.langchain.com/docs/how_to/migrate_agent/>`_ and LangGraph's `Pre-built ReAct agent <https://langchain-ai.github.io/langgraph/how-tos/create-react-agent/>`_.\n",
      "  agent = initialize_agent(tools, llm, agent=AgentType.ZERO_SHOT_REACT_DESCRIPTION, verbose=True)\n"
     ]
    },
    {
     "name": "stdout",
     "output_type": "stream",
     "text": [
      "\n",
      "\n",
      "\u001b[1m> Entering new AgentExecutor chain...\u001b[0m\n",
      "\u001b[32;1m\u001b[1;3mQuestion: What was the GDP of US and India in 2024 plus 5?\n",
      "Thought: The question asks for the GDP of US and India in the year 2029 (2024 + 5). I need to search for the GDP of both countries individually for the year 2029.  Since 2029 hasn't happened yet, I will need to look for projections or estimates.\n",
      "Action: Search\n",
      "Action Input: \"projected GDP US 2029\"\u001b[0m\n",
      "Observation: \u001b[36;1m\u001b[1;3m['After growing by an estimated 3.1 percent in 2018, real (inflation- adjusted) gross domestic product (GDP) is projected to grow by 2.3 percent this year and ...', 'Real GDP growth. Annual percent change. 1.8 ; GDP, current prices. Billions of U.S. dollars. 30.51 ; GDP per capita, current prices. U.S. dollars per capita.', \"IMF estimates and projections for 2020 through 2029. edit. The following list contains the various countries' projected GDP (nominal) from 2020 to 2029.\", 'Throughout the projection period to 2033, global real GDP growth is projected to stabilize but remains char- acterized by lower overall growth rates over the ...', 'Revenues decline as a share of GDP over the next two years, falling to 17.9 percent in 2029, but then generally increase, reaching 18.3 percent ...', 'Overall, our modeling shows real GDP growth of 2.6% in 2025 and 2.1% in 2026. GDP growth then averages 1.9% per year over the remaining three ...', 'Real GDP long-term forecast is the trend gross domestic product (GDP), including long-term baseline projections, in real terms.', 'Real gross domestic product (GDP) decreased at an annual rate of 0.3 percent in the first quarter of 2025 (January, February, and March), according to the ...']\u001b[0m\n",
      "Thought:\u001b[32;1m\u001b[1;3mThought: The search results for US GDP in 2029 are not definitive.  I will try searching for India's projected GDP for 2029.\n",
      "Action: Search\n",
      "Action Input: \"projected GDP India 2029\"\u001b[0m\n",
      "Observation: \u001b[36;1m\u001b[1;3m['GDP per capita, current prices. U.S. dollars per capita. India. GDP, current prices. Purchasing power parity; billions of international dollars. 17.65.', 'Neutral increase 1,428,627,663 (1st; 2024 est.) · Increase $4.19 trillion (nominal; 2025 est.) · Increase $17.65 trillion (PPP; 2025 est.) · 4th (nominal; 2025) ...', \"India's nominal GDP has more than doubled from 2014 to 2025 (projected). It's a growth of 105% in just a decade. In 2025, India will also ...\", \"We expect that by FY48, in PPP terms, India's GDP may reach the US$40 trillion mark. Consistent with this scenario (S2), the share of India in world GDP is ...\", \"IMF estimates and projections for 2020 through 2029. edit. The following list contains the various countries' projected GDP (nominal) from 2020 to 2029.\", \"India's GDP is expected to rise to $5723.3 billion by 2028 and $6307.2 billion by 2029. In 2029, the world's largest economy, the US, is ...\", 'At a Glance ; 2025 Projected Real GDP (% Change) : 6.2 ; 2025 Projected Consumer Prices (% Change): 4.2 ; Country Population: 1,454.607 million ; Date of Membership ...', {'bottom': {}}]\u001b[0m\n",
      "Thought:\u001b[32;1m\u001b[1;3mThought: The search results for India's GDP in 2029 are also not definitive, but one source suggests it could be $6307.2 billion.  The results for the US are even less clear. I will try searching for a source that projects both.\n",
      "Action: Search\n",
      "Action Input: \"projected GDP US and India 2029\"\u001b[0m\n",
      "Observation: \u001b[36;1m\u001b[1;3mIndia's GDP is expected to rise to $5723.3 billion by 2028 and $6307.2 billion by 2029. In 2029, the world's largest economy, the US, is projected to have a GDP of $35458 billion - which is 5.62 times India's GDP!\u001b[0m\n",
      "Thought:\u001b[32;1m\u001b[1;3mThought: I found a source that projects both US and India's GDP for 2029. It states that the US GDP is projected to be $35458 billion and India's GDP is projected to be $6307.2 billion. I need to add these together.\n",
      "Action: Calculator\n",
      "Action Input: 35458 + 6307.2\u001b[0m\n",
      "Observation: \u001b[33;1m\u001b[1;3mAnswer: 41765.2\u001b[0m\n",
      "Thought:\u001b[32;1m\u001b[1;3mThought: I have the sum of the projected GDPs.\n",
      "Final Answer: The combined projected GDP of the US and India in 2029 is $41,765.2 billion.\u001b[0m\n",
      "\n",
      "\u001b[1m> Finished chain.\u001b[0m\n"
     ]
    },
    {
     "data": {
      "text/plain": [
       "'The combined projected GDP of the US and India in 2029 is $41,765.2 billion.'"
      ]
     },
     "execution_count": 20,
     "metadata": {},
     "output_type": "execute_result"
    }
   ],
   "source": [
    "from langchain.agents import AgentType, initialize_agent, load_tools\n",
    "\n",
    "# load_tools is a utility function that loads the tools we want to use with our agent.\n",
    "# the 'llm-math' tool uses an LLM, so we need to pass that in.\n",
    "# serpapi is a search tool that allows the agent to search the web.\n",
    "tools = load_tools([\"serpapi\", \"llm-math\"], llm=llm) \n",
    "\n",
    "# Finally, let's initialize an agent with the tools, the language model, \n",
    "# and the type of agent we want to use.\n",
    "# The ZERO_SHOT_REACT_DESCRIPTION agent is a good choice for many tasks.\n",
    "agent = initialize_agent(tools, llm, agent=AgentType.ZERO_SHOT_REACT_DESCRIPTION, verbose=True)\n",
    "\n",
    "# Let's test it out!\n",
    "agent.run(\"What was the GDP of US and India in 2024 plus 5?\")"
   ]
  },
  {
   "cell_type": "markdown",
   "id": "3e184550",
   "metadata": {},
   "source": [
    "### Wikipedia and llm-math tool"
   ]
  },
  {
   "cell_type": "code",
   "execution_count": null,
   "id": "30d93f8b",
   "metadata": {},
   "outputs": [],
   "source": [
    "# !pip install wikipedia"
   ]
  },
  {
   "cell_type": "code",
   "execution_count": 24,
   "id": "af775f8e",
   "metadata": {},
   "outputs": [
    {
     "name": "stdout",
     "output_type": "stream",
     "text": [
      "\n",
      "\n",
      "\u001b[1m> Entering new AgentExecutor chain...\u001b[0m\n",
      "\u001b[32;1m\u001b[1;3mThought: I need to find Elon Musk's birth date using Wikipedia, and then calculate his age in 2025.\n",
      "\n",
      "Action: wikipedia\n",
      "Action Input: Elon Musk\u001b[0m\n",
      "Observation: \u001b[36;1m\u001b[1;3mPage: Elon Musk\n",
      "Summary: Elon Reeve Musk ( EE-lon; born June 28, 1971) is a businessman known for his leadership of Tesla, SpaceX, and X (formerly Twitter). In early 2025, he served as senior advisor to United States president Donald Trump and as the de facto head of the Department of Government Efficiency (DOGE). Musk has been considered the wealthiest person in the world since 2021; as of May 2025, Forbes estimates his net worth to be US$424.7 billion. He was named Time magazine's Person of the Year in 2021.\n",
      "Born to a wealthy family in Pretoria, South Africa, Musk emigrated in 1989 to Canada. He received bachelor's degrees from the University of Pennsylvania in 1997 before moving to California to pursue business ventures. In 1995, Musk co-founded the software company Zip2. Following its sale in 1999, he co-founded X.com, an online payment company that later merged to form PayPal, which was acquired by eBay in 2002. That year, Musk also became a U.S. citizen.\n",
      "In 2002, Musk founded the space technology company SpaceX, becoming its CEO and chief engineer; the company has since led innovations in reusable rockets and commercial spaceflight. Musk joined the automaker Tesla as an early investor in 2004 and became its CEO and product architect in 2008; it has since become a leader in electric vehicles. In 2015, he co-founded OpenAI to advance artificial intelligence research but later left; growing discontent with the organization's direction in the 2020s led him to establish xAI. In 2022, he acquired the social network Twitter, implementing significant changes and rebranding it as X in 2023. In January 2025, he was appointed head of Trump's newly created DOGE. His other businesses include the neurotechnology company Neuralink, which he co-founded in 2016, and the tunneling company the Boring Company, which he founded in 2017.\n",
      "Musk's political activities and views have made him a polarizing figure. He has been criticized for making unscientific and misleading statements, including COVID-19 misinformation and promoting conspiracy theories, and affirming antisemitic, racist, and transphobic comments. His acquisition of Twitter was controversial due to a subsequent increase in hate speech and the spread of misinformation on the service. Especially since the 2024 U.S. presidential election, Musk has been heavily involved in politics as a vocal supporter of Trump. Musk was the largest donor in the 2024 U.S. presidential election and is a supporter of global far-right figures, causes, and political parties. His role in the second Trump administration, particularly in response to DOGE, has attracted public backlash. Critics have accused Musk of having influence over Trump, and that he had acted as a de facto \"co-President\" and even dictatorial within the first 100 days of Trump's term. Musk's companies started experiencing significant reductions in revenue, sparked by both boycotts and a general negative reaction from many customers and investors. This, in addition to increasing tension with Trump and his administration, led to Musk formally announcing on May 28 that he would be departing from the Trump administration by the 130th day.\n",
      "\n",
      "Page: Wealth of Elon Musk\n",
      "Summary: Elon Musk is the wealthiest person in the world, with an estimated net worth of US$381 billion as of May 2025, according to the Bloomberg Billionaires Index, and $424.7 billion according to Forbes, primarily from his ownership stakes in Tesla and SpaceX. \n",
      "Having been first listed on the Forbes Billionaires List in 2012, around 75% of Musk's wealth was derived from Tesla stock in November 2020. Describing himself as \"cash poor\", he became the first person in the world to have a net worth above $300 billion a year later. By December 2024, he became the first person to reach a net worth of $400 billion.\n",
      "\n",
      "\n",
      "\n",
      "Page: Elon Musk salute controversy\n",
      "Summary: On January 20, 2025, while speaking at a rally celebrating U.S. president Donald Trump's second inauguration, businessman and p\u001b[0m\n",
      "Thought:\u001b[32;1m\u001b[1;3mThought: I need to find Elon Musk's birth date using Wikipedia, and then calculate his age in 2025.\n",
      "\n",
      "Action: wikipedia\n",
      "Action Input: Elon Musk\u001b[0m\n",
      "Observation: \u001b[36;1m\u001b[1;3mPage: Elon Musk\n",
      "Summary: Elon Reeve Musk ( EE-lon; born June 28, 1971) is a businessman known for his leadership of Tesla, SpaceX, and X (formerly Twitter). In early 2025, he served as senior advisor to United States president Donald Trump and as the de facto head of the Department of Government Efficiency (DOGE). Musk has been considered the wealthiest person in the world since 2021; as of May 2025, Forbes estimates his net worth to be US$424.7 billion. He was named Time magazine's Person of the Year in 2021.\n",
      "Born to a wealthy family in Pretoria, South Africa, Musk emigrated in 1989 to Canada. He received bachelor's degrees from the University of Pennsylvania in 1997 before moving to California to pursue business ventures. In 1995, Musk co-founded the software company Zip2. Following its sale in 1999, he co-founded X.com, an online payment company that later merged to form PayPal, which was acquired by eBay in 2002. That year, Musk also became a U.S. citizen.\n",
      "In 2002, Musk founded the space technology company SpaceX, becoming its CEO and chief engineer; the company has since led innovations in reusable rockets and commercial spaceflight. Musk joined the automaker Tesla as an early investor in 2004 and became its CEO and product architect in 2008; it has since become a leader in electric vehicles. In 2015, he co-founded OpenAI to advance artificial intelligence research but later left; growing discontent with the organization's direction in the 2020s led him to establish xAI. In 2022, he acquired the social network Twitter, implementing significant changes and rebranding it as X in 2023. In January 2025, he was appointed head of Trump's newly created DOGE. His other businesses include the neurotechnology company Neuralink, which he co-founded in 2016, and the tunneling company the Boring Company, which he founded in 2017.\n",
      "Musk's political activities and views have made him a polarizing figure. He has been criticized for making unscientific and misleading statements, including COVID-19 misinformation and promoting conspiracy theories, and affirming antisemitic, racist, and transphobic comments. His acquisition of Twitter was controversial due to a subsequent increase in hate speech and the spread of misinformation on the service. Especially since the 2024 U.S. presidential election, Musk has been heavily involved in politics as a vocal supporter of Trump. Musk was the largest donor in the 2024 U.S. presidential election and is a supporter of global far-right figures, causes, and political parties. His role in the second Trump administration, particularly in response to DOGE, has attracted public backlash. Critics have accused Musk of having influence over Trump, and that he had acted as a de facto \"co-President\" and even dictatorial within the first 100 days of Trump's term. Musk's companies started experiencing significant reductions in revenue, sparked by both boycotts and a general negative reaction from many customers and investors. This, in addition to increasing tension with Trump and his administration, led to Musk formally announcing on May 28 that he would be departing from the Trump administration by the 130th day.\n",
      "\n",
      "Page: Wealth of Elon Musk\n",
      "Summary: Elon Musk is the wealthiest person in the world, with an estimated net worth of US$381 billion as of May 2025, according to the Bloomberg Billionaires Index, and $424.7 billion according to Forbes, primarily from his ownership stakes in Tesla and SpaceX. \n",
      "Having been first listed on the Forbes Billionaires List in 2012, around 75% of Musk's wealth was derived from Tesla stock in November 2020. Describing himself as \"cash poor\", he became the first person in the world to have a net worth above $300 billion a year later. By December 2024, he became the first person to reach a net worth of $400 billion.\n",
      "\n",
      "\n",
      "\n",
      "Page: Elon Musk salute controversy\n",
      "Summary: On January 20, 2025, while speaking at a rally celebrating U.S. president Donald Trump's second inauguration, businessman and p\u001b[0m\n",
      "Thought:\u001b[32;1m\u001b[1;3mThought: I found Elon Musk's birth date (June 28, 1971). Now I need to calculate his age in 2025.\n",
      "\n",
      "Action: Calculator\n",
      "Action Input: 2025 - 1971\u001b[0m\n",
      "Observation: \u001b[33;1m\u001b[1;3mAnswer: 54\u001b[0m\n",
      "Thought:\u001b[32;1m\u001b[1;3mThought: I now have the answer.\n",
      "Final Answer: Elon Musk was born on June 28, 1971, and he was 54 years old in 2025.\u001b[0m\n",
      "\n",
      "\u001b[1m> Finished chain.\u001b[0m\n"
     ]
    },
    {
     "data": {
      "text/plain": [
       "'Elon Musk was born on June 28, 1971, and he was 54 years old in 2025.'"
      ]
     },
     "execution_count": 24,
     "metadata": {},
     "output_type": "execute_result"
    }
   ],
   "source": [
    "# The tools we'll give the Agent access to. Note that the 'llm-math' tool uses an LLM, so we need to pass that in.\n",
    "tools = load_tools([\"wikipedia\", \"llm-math\"], llm=llm)\n",
    "\n",
    "# Finally, let's initialize an agent with the tools, the language model, and the type of agent we want to use.\n",
    "agent = initialize_agent(\n",
    "    tools, \n",
    "    llm, \n",
    "    agent=AgentType.ZERO_SHOT_REACT_DESCRIPTION, \n",
    "    verbose=True\n",
    ")\n",
    "\n",
    "# Let's test it out!\n",
    "agent.run(\"When was Elon musk born? What is his age right now in 2025?\")"
   ]
  },
  {
   "cell_type": "markdown",
   "id": "2a394a74",
   "metadata": {},
   "source": [
    "### Memory"
   ]
  },
  {
   "cell_type": "code",
   "execution_count": 26,
   "id": "aac298f2",
   "metadata": {},
   "outputs": [
    {
     "name": "stdout",
     "output_type": "stream",
     "text": [
      "**Elegant & Evocative:**\n",
      "\n",
      "* Casa de Luna (House of the Moon)\n",
      "* Cielito Lindo (Beautiful Little Sky)\n",
      "* Flor de Maíz (Flower of Corn)\n",
      "* Sol y Sombra (Sun and Shade)\n",
      "* Corazón de Agave (Heart of Agave)\n",
      "* Azúcar y Sal (Sugar and Salt)\n",
      "* Cantina de Estrellas (Cantina of Stars)\n",
      "\n",
      "**Modern & Chic:**\n",
      "\n",
      "* Maíz (Corn)\n",
      "* Agave\n",
      "* Oaxaca\n",
      "* Tulum\n",
      "* Coyoacán\n",
      "* Xochimilco\n",
      "* Chichén\n",
      "\n",
      "**Playful & Intriguing:**\n",
      "\n",
      "* The Chile & Lime\n",
      "* The Wandering Taco\n",
      "* La Doña's Kitchen\n",
      "* El Mariachi's Fiesta\n",
      "* The Secret Mole\n",
      "* Whispers of Oaxaca\n",
      "\n",
      "**Sophisticated & Formal:**\n",
      "\n",
      "* Hacienda del Sol (Estate of the Sun)\n",
      "* Restaurante Veracruz\n",
      "* Cocina de México\n",
      "* La Mesa de Plata (The Silver Table)\n",
      "\n",
      "\n",
      "**Tips for choosing the best name:**\n",
      "\n",
      "* **Check for availability:** Make sure the name isn't already in use and that the domain name and social media handles are available.\n",
      "* **Keep it short and memorable:**  Easy to pronounce and recall.\n",
      "* **Consider your target audience:** Who are you trying to attract?\n",
      "* **Reflect your restaurant's concept:** Does the name convey the atmosphere and style of your restaurant?  (e.g., casual, upscale, traditional, modern)\n",
      "* **Get feedback:** Ask friends, family, and potential customers for their opinions.\n",
      "\n",
      "\n",
      "Good luck with your restaurant!\n"
     ]
    }
   ],
   "source": [
    "chain = LLMChain(llm=llm,prompt=prompt_template_name)\n",
    "name = chain.run(\"Mexican\")\n",
    "print(name)"
   ]
  },
  {
   "cell_type": "code",
   "execution_count": 27,
   "id": "425aa60c",
   "metadata": {},
   "outputs": [
    {
     "name": "stdout",
     "output_type": "stream",
     "text": [
      "**Elegant & Evocative:**\n",
      "\n",
      "* Saffron & Silk\n",
      "* The Spice Merchant\n",
      "* Jewel of India\n",
      "* Maharaja's Table\n",
      "* The Peacock Throne\n",
      "* Amber & Clove\n",
      "* The Cardamom Club\n",
      "* Indus Dreams\n",
      "* The Ganges Grill\n",
      "* Himalayan Heights\n",
      "\n",
      "**Modern & Chic:**\n",
      "\n",
      "* Masala & Mint\n",
      "* Tandoor & Thyme\n",
      "* Curry & Craft\n",
      "* Chilli & Chaat\n",
      "* Spice Route Bistro\n",
      "* The Bombay Brasserie\n",
      "* Delhi Diner\n",
      "* Kolkata Kitchen\n",
      "* Jaipur Junction\n",
      "* The Taj Terrace\n",
      "\n",
      "**Playful & Creative:**\n",
      "\n",
      "* Tikka Chance on Me\n",
      "* Naan Stop\n",
      "* Curry Up Now\n",
      "* Butter Chicken Blues\n",
      "* Samosa Station\n",
      "* The Chutney Club\n",
      "* Mango Tango\n",
      "* Lassi Fair\n",
      "* Biryani Bazaar\n",
      "* Chai & Chill\n",
      "\n",
      "**Location Specific (if applicable):**\n",
      "\n",
      "* [Your City/Neighborhood] Spice House\n",
      "* The [Local Landmark] Tandoor\n",
      "* [River/Mountain] Indian Grill\n",
      "\n",
      "\n",
      "When choosing, consider:\n",
      "\n",
      "* **Your target audience:**  Do you want to attract a more traditional or modern clientele?\n",
      "* **Your menu's focus:** Does the name reflect the type of Indian food you'll serve (e.g., North Indian, South Indian)?\n",
      "* **Availability:** Check if the name is already in use (website domain, social media handles).\n",
      "\n",
      "\n",
      "Good luck with your restaurant!\n"
     ]
    }
   ],
   "source": [
    "name = chain.run(\"Indian\")\n",
    "print(name)"
   ]
  },
  {
   "cell_type": "code",
   "execution_count": 29,
   "id": "59f33c67",
   "metadata": {},
   "outputs": [],
   "source": [
    "chain.memory"
   ]
  },
  {
   "cell_type": "code",
   "execution_count": 30,
   "id": "cb91d376",
   "metadata": {},
   "outputs": [
    {
     "data": {
      "text/plain": [
       "NoneType"
      ]
     },
     "execution_count": 30,
     "metadata": {},
     "output_type": "execute_result"
    }
   ],
   "source": [
    "type(chain.memory)"
   ]
  },
  {
   "cell_type": "markdown",
   "id": "3dcec527",
   "metadata": {},
   "source": [
    "### ConversationBufferMemory"
   ]
  },
  {
   "cell_type": "code",
   "execution_count": 31,
   "id": "b9b91c12",
   "metadata": {},
   "outputs": [
    {
     "name": "stderr",
     "output_type": "stream",
     "text": [
      "C:\\Users\\bdobhalx\\AppData\\Local\\Temp\\ipykernel_7140\\3140656249.py:3: LangChainDeprecationWarning: Please see the migration guide at: https://python.langchain.com/docs/versions/migrating_memory/\n",
      "  memory = ConversationBufferMemory()\n"
     ]
    },
    {
     "name": "stdout",
     "output_type": "stream",
     "text": [
      "**Elegant & Evocative:**\n",
      "\n",
      "* Casa de Luna (House of the Moon)\n",
      "* Sol y Sombra (Sun and Shadow)\n",
      "* Azúcar y Sal (Sugar and Salt)\n",
      "* Cielito Lindo (Beautiful Little Sky)\n",
      "* Flores del Fuego (Flowers of Fire)\n",
      "* Corazón de Agave (Heart of Agave)\n",
      "* La Cantina Encantada (The Enchanted Cantina)\n",
      "* El Secreto de Oaxaca (The Secret of Oaxaca)\n",
      "* Tesoros de México (Treasures of Mexico)\n",
      "\n",
      "**Modern & Chic:**\n",
      "\n",
      "* Agave & Lime\n",
      "* Chiles & Chocolate\n",
      "* Mezcaleria Moderna\n",
      "* Cocina de Autor (Author's Kitchen)\n",
      "* El Jardín (The Garden)\n",
      "* La Terraza (The Terrace)\n",
      "* Antojo (Craving)\n",
      "* Sabor (Flavor)\n",
      "* Esencia (Essence)\n",
      "\n",
      "**Playful & Unique:**\n",
      "\n",
      "* The Spicy Señorita\n",
      "* The Wandering Taco\n",
      "* Holy Guacamole!\n",
      "* Chile & Chill\n",
      "* Margarita Moon\n",
      "* Fiesta Forever\n",
      "* Taco Temptation\n",
      "* Salsa Central\n",
      "* Cantina Carousel\n",
      "\n",
      "\n",
      "**Tips for Choosing the Best Name:**\n",
      "\n",
      "* **Consider your target audience:**  Are you aiming for a high-end clientele or a more casual crowd?\n",
      "* **Keep it short and memorable:**  Easy to say and easy to remember.\n",
      "* **Check for availability:** Make sure the name isn't already taken and that the domain name is available.\n",
      "* **Get feedback:** Ask friends and family for their opinions.\n",
      "* **Think about branding:** How will the name translate to your logo and overall aesthetic?\n",
      "\n",
      "\n",
      "Good luck with your restaurant!  I hope this helps you find the perfect name. \n"
     ]
    }
   ],
   "source": [
    "from langchain.memory import ConversationBufferMemory\n",
    "\n",
    "memory = ConversationBufferMemory()\n",
    "\n",
    "chain = LLMChain(llm=llm, prompt=prompt_template_name, memory=memory)\n",
    "name = chain.run(\"Mexican\")\n",
    "print(name)"
   ]
  },
  {
   "cell_type": "code",
   "execution_count": 32,
   "id": "5a1a84bf",
   "metadata": {},
   "outputs": [
    {
     "name": "stdout",
     "output_type": "stream",
     "text": [
      "## Fancy Arabic Restaurant Names:\n",
      "\n",
      "**Evocative & Romantic:**\n",
      "\n",
      "* Layla's Kitchen (Layla means \"night\" in Arabic)\n",
      "* Whispers of the Levant\n",
      "* The Saffron Moon\n",
      "* Oasis of Flavors\n",
      "* Desert Bloom Bistro\n",
      "* Arabian Nights Dining\n",
      "* The Gilded Casbah\n",
      "* Star of Ishraq (Ishraq means \"sunrise\")\n",
      "\n",
      "**Sophisticated & Modern:**\n",
      "\n",
      "* Althea (Arabic origin, means \"with healing power\")\n",
      "* Zahra Cuisine (Zahra means \"flower\")\n",
      "* Nur & Spice (Nur means \"light\")\n",
      "* The Pomegranate Grove\n",
      "* Cedar & Saffron\n",
      "* Dar Al Tayyibat (House of Delicious Things)\n",
      "* Mizan (means \"balance\")\n",
      "* Amira's Table (Amira means \"princess\")\n",
      "\n",
      "**Location Specific (if applicable):**\n",
      "\n",
      "* [Your City] Nights\n",
      "* The [Neighborhood] Oasis\n",
      "* [Landmark] Spice House\n",
      "\n",
      "**Playful & Unique:**\n",
      "\n",
      "* The Flying Carpet Cafe (more casual, but fun)\n",
      "* The Magic Lamp Bistro\n",
      "* The Date Palm & Vine\n",
      "\n",
      "\n",
      "**Tips for Choosing the Best Name:**\n",
      "\n",
      "* **Keep it short and memorable:**  Easy to pronounce and recall.\n",
      "* **Reflect your restaurant's atmosphere:**  Fancy names should match a sophisticated ambiance.\n",
      "* **Check for availability:** Make sure the name isn't already taken and that the domain name is available if you plan to have a website.\n",
      "* **Get feedback:** Ask potential customers for their opinions on your favorite names.\n",
      "\n",
      "\n",
      "Good luck with your restaurant!  I hope it's a delicious success.\n"
     ]
    }
   ],
   "source": [
    "name = chain.run(\"Arabic\")\n",
    "print(name)"
   ]
  },
  {
   "cell_type": "code",
   "execution_count": 33,
   "id": "810ea10e",
   "metadata": {},
   "outputs": [
    {
     "name": "stdout",
     "output_type": "stream",
     "text": [
      "Human: Mexican\n",
      "AI: **Elegant & Evocative:**\n",
      "\n",
      "* Casa de Luna (House of the Moon)\n",
      "* Sol y Sombra (Sun and Shadow)\n",
      "* Azúcar y Sal (Sugar and Salt)\n",
      "* Cielito Lindo (Beautiful Little Sky)\n",
      "* Flores del Fuego (Flowers of Fire)\n",
      "* Corazón de Agave (Heart of Agave)\n",
      "* La Cantina Encantada (The Enchanted Cantina)\n",
      "* El Secreto de Oaxaca (The Secret of Oaxaca)\n",
      "* Tesoros de México (Treasures of Mexico)\n",
      "\n",
      "**Modern & Chic:**\n",
      "\n",
      "* Agave & Lime\n",
      "* Chiles & Chocolate\n",
      "* Mezcaleria Moderna\n",
      "* Cocina de Autor (Author's Kitchen)\n",
      "* El Jardín (The Garden)\n",
      "* La Terraza (The Terrace)\n",
      "* Antojo (Craving)\n",
      "* Sabor (Flavor)\n",
      "* Esencia (Essence)\n",
      "\n",
      "**Playful & Unique:**\n",
      "\n",
      "* The Spicy Señorita\n",
      "* The Wandering Taco\n",
      "* Holy Guacamole!\n",
      "* Chile & Chill\n",
      "* Margarita Moon\n",
      "* Fiesta Forever\n",
      "* Taco Temptation\n",
      "* Salsa Central\n",
      "* Cantina Carousel\n",
      "\n",
      "\n",
      "**Tips for Choosing the Best Name:**\n",
      "\n",
      "* **Consider your target audience:**  Are you aiming for a high-end clientele or a more casual crowd?\n",
      "* **Keep it short and memorable:**  Easy to say and easy to remember.\n",
      "* **Check for availability:** Make sure the name isn't already taken and that the domain name is available.\n",
      "* **Get feedback:** Ask friends and family for their opinions.\n",
      "* **Think about branding:** How will the name translate to your logo and overall aesthetic?\n",
      "\n",
      "\n",
      "Good luck with your restaurant!  I hope this helps you find the perfect name. \n",
      "Human: Arabic\n",
      "AI: ## Fancy Arabic Restaurant Names:\n",
      "\n",
      "**Evocative & Romantic:**\n",
      "\n",
      "* Layla's Kitchen (Layla means \"night\" in Arabic)\n",
      "* Whispers of the Levant\n",
      "* The Saffron Moon\n",
      "* Oasis of Flavors\n",
      "* Desert Bloom Bistro\n",
      "* Arabian Nights Dining\n",
      "* The Gilded Casbah\n",
      "* Star of Ishraq (Ishraq means \"sunrise\")\n",
      "\n",
      "**Sophisticated & Modern:**\n",
      "\n",
      "* Althea (Arabic origin, means \"with healing power\")\n",
      "* Zahra Cuisine (Zahra means \"flower\")\n",
      "* Nur & Spice (Nur means \"light\")\n",
      "* The Pomegranate Grove\n",
      "* Cedar & Saffron\n",
      "* Dar Al Tayyibat (House of Delicious Things)\n",
      "* Mizan (means \"balance\")\n",
      "* Amira's Table (Amira means \"princess\")\n",
      "\n",
      "**Location Specific (if applicable):**\n",
      "\n",
      "* [Your City] Nights\n",
      "* The [Neighborhood] Oasis\n",
      "* [Landmark] Spice House\n",
      "\n",
      "**Playful & Unique:**\n",
      "\n",
      "* The Flying Carpet Cafe (more casual, but fun)\n",
      "* The Magic Lamp Bistro\n",
      "* The Date Palm & Vine\n",
      "\n",
      "\n",
      "**Tips for Choosing the Best Name:**\n",
      "\n",
      "* **Keep it short and memorable:**  Easy to pronounce and recall.\n",
      "* **Reflect your restaurant's atmosphere:**  Fancy names should match a sophisticated ambiance.\n",
      "* **Check for availability:** Make sure the name isn't already taken and that the domain name is available if you plan to have a website.\n",
      "* **Get feedback:** Ask potential customers for their opinions on your favorite names.\n",
      "\n",
      "\n",
      "Good luck with your restaurant!  I hope it's a delicious success.\n"
     ]
    }
   ],
   "source": [
    "print(chain.memory.buffer)"
   ]
  },
  {
   "cell_type": "markdown",
   "id": "7afce77b",
   "metadata": {},
   "source": [
    "### ConversationChain"
   ]
  },
  {
   "cell_type": "code",
   "execution_count": 34,
   "id": "922e1c9d",
   "metadata": {},
   "outputs": [
    {
     "name": "stdout",
     "output_type": "stream",
     "text": [
      "The following is a friendly conversation between a human and an AI. The AI is talkative and provides lots of specific details from its context. If the AI does not know the answer to a question, it truthfully says it does not know.\n",
      "\n",
      "Current conversation:\n",
      "{history}\n",
      "Human: {input}\n",
      "AI:\n"
     ]
    },
    {
     "name": "stderr",
     "output_type": "stream",
     "text": [
      "C:\\Users\\bdobhalx\\AppData\\Local\\Temp\\ipykernel_7140\\2511972608.py:3: LangChainDeprecationWarning: The class `ConversationChain` was deprecated in LangChain 0.2.7 and will be removed in 1.0. Use :meth:`~RunnableWithMessageHistory: https://python.langchain.com/v0.2/api_reference/core/runnables/langchain_core.runnables.history.RunnableWithMessageHistory.html` instead.\n",
      "  convo = ConversationChain(llm=llm)\n"
     ]
    }
   ],
   "source": [
    "from langchain.chains import ConversationChain\n",
    "\n",
    "convo = ConversationChain(llm=llm)\n",
    "print(convo.prompt.template)"
   ]
  },
  {
   "cell_type": "code",
   "execution_count": 35,
   "id": "5b2260f2",
   "metadata": {},
   "outputs": [
    {
     "data": {
      "text/plain": [
       "\"The West Indies won the first Cricket World Cup, officially called the Prudential Cup,  held in England in 1975.  They defeated Australia by 17 runs in the final at Lord's on June 21st.  Clive Lloyd captained the West Indies and scored a magnificent century (102 runs) in the final.  The West Indies also won the second Cricket World Cup in 1979, making them the first team to win the tournament twice.\""
      ]
     },
     "execution_count": 35,
     "metadata": {},
     "output_type": "execute_result"
    }
   ],
   "source": [
    "convo.run(\"Who won the first cricket world cup?\")"
   ]
  },
  {
   "cell_type": "code",
   "execution_count": 36,
   "id": "ca2cf0de",
   "metadata": {},
   "outputs": [
    {
     "data": {
      "text/plain": [
       "'5 + 5 = 10.'"
      ]
     },
     "execution_count": 36,
     "metadata": {},
     "output_type": "execute_result"
    }
   ],
   "source": [
    "convo.run(\"How much is 5+5?\")"
   ]
  },
  {
   "cell_type": "code",
   "execution_count": 37,
   "id": "0e192c20",
   "metadata": {},
   "outputs": [
    {
     "data": {
      "text/plain": [
       "'Clive Lloyd captained the West Indies to victory in the first Cricket World Cup in 1975.  He also scored a century in the final match against Australia.'"
      ]
     },
     "execution_count": 37,
     "metadata": {},
     "output_type": "execute_result"
    }
   ],
   "source": [
    "convo.run(\"Who was the captain ofthe winning team?\")"
   ]
  },
  {
   "cell_type": "code",
   "execution_count": 38,
   "id": "305714ee",
   "metadata": {},
   "outputs": [
    {
     "name": "stdout",
     "output_type": "stream",
     "text": [
      "Human: Who won the first cricket world cup?\n",
      "AI: The West Indies won the first Cricket World Cup, officially called the Prudential Cup,  held in England in 1975.  They defeated Australia by 17 runs in the final at Lord's on June 21st.  Clive Lloyd captained the West Indies and scored a magnificent century (102 runs) in the final.  The West Indies also won the second Cricket World Cup in 1979, making them the first team to win the tournament twice.\n",
      "Human: How much is 5+5?\n",
      "AI: 5 + 5 = 10.\n",
      "Human: Who was the captain ofthe winning team?\n",
      "AI: Clive Lloyd captained the West Indies to victory in the first Cricket World Cup in 1975.  He also scored a century in the final match against Australia.\n"
     ]
    }
   ],
   "source": [
    "print(convo.memory.buffer)"
   ]
  },
  {
   "cell_type": "markdown",
   "id": "ccfb5cf9",
   "metadata": {},
   "source": [
    "### ConversationBufferWindowMemory"
   ]
  },
  {
   "cell_type": "code",
   "execution_count": null,
   "id": "6b9f044c",
   "metadata": {},
   "outputs": [
    {
     "name": "stderr",
     "output_type": "stream",
     "text": [
      "C:\\Users\\bdobhalx\\AppData\\Local\\Temp\\ipykernel_7140\\790582290.py:3: LangChainDeprecationWarning: Please see the migration guide at: https://python.langchain.com/docs/versions/migrating_memory/\n",
      "  memory = ConversationBufferWindowMemory(k=1)\n"
     ]
    },
    {
     "data": {
      "text/plain": [
       "\"The West Indies won the first Cricket World Cup, officially called the Prudential Cup,  defeating Australia by 17 runs at Lord's Cricket Ground in London on June 21, 1975.  Clive Lloyd captained the West Indies team and scored a century (102 runs) in the final.  The West Indies posted a total of 291 for 8 in their 60 overs, and Australia were bowled out for 274 in 58.4 overs.\""
      ]
     },
     "execution_count": 39,
     "metadata": {},
     "output_type": "execute_result"
    }
   ],
   "source": [
    "from langchain.memory import ConversationBufferWindowMemory\n",
    "\n",
    "memory = ConversationBufferWindowMemory(k=1) # This will keep only the last interaction in memory\n",
    "\n",
    "convo = ConversationChain(\n",
    "    llm=llm,\n",
    "    memory=memory\n",
    ")\n",
    "convo.run(\"Who won the first cricket world cup?\")"
   ]
  },
  {
   "cell_type": "code",
   "execution_count": 40,
   "id": "a5a5f413",
   "metadata": {},
   "outputs": [
    {
     "data": {
      "text/plain": [
       "'AI: 5 + 5 = 10.'"
      ]
     },
     "execution_count": 40,
     "metadata": {},
     "output_type": "execute_result"
    }
   ],
   "source": [
    "convo.run(\"How much is 5+5?\")"
   ]
  },
  {
   "cell_type": "code",
   "execution_count": 41,
   "id": "4a4ad374",
   "metadata": {},
   "outputs": [
    {
     "data": {
      "text/plain": [
       "\"AI:  I need a little more information to answer that!  Winning team of *what*?  Do you mean a specific game I've already been told about?  Perhaps you're thinking of a famous historical game?  Give me some more context, like the sport, the year, or the teams involved, and I'll do my best to find out!\""
      ]
     },
     "execution_count": 41,
     "metadata": {},
     "output_type": "execute_result"
    }
   ],
   "source": [
    "convo.run(\"Who was the captain of the winning team?\")"
   ]
  }
 ],
 "metadata": {
  "kernelspec": {
   "display_name": "Python 3",
   "language": "python",
   "name": "python3"
  },
  "language_info": {
   "codemirror_mode": {
    "name": "ipython",
    "version": 3
   },
   "file_extension": ".py",
   "mimetype": "text/x-python",
   "name": "python",
   "nbconvert_exporter": "python",
   "pygments_lexer": "ipython3",
   "version": "3.12.10"
  }
 },
 "nbformat": 4,
 "nbformat_minor": 5
}
