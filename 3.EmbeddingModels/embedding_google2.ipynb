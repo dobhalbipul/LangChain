{
 "cells": [
  {
   "cell_type": "code",
   "execution_count": 9,
   "id": "00f1d1eb",
   "metadata": {},
   "outputs": [],
   "source": [
    "import os\n",
    "from dotenv import load_dotenv\n",
    "from langchain_google_genai import GoogleGenerativeAIEmbeddings\n",
    "from langchain_community.vectorstores import FAISS # A simple in-memory vector store for demonstration\n",
    "from langchain_core.documents import Document\n",
    "\n",
    "load_dotenv() # Load your API key from .env\n",
    "\n",
    "# Initialize the Gemini LLM\n",
    "# You can specify the model name directly\n",
    "embeddings_model  = GoogleGenerativeAIEmbeddings(model=\"models/embedding-001\")# temperature controls creativity\n"
   ]
  },
  {
   "cell_type": "code",
   "execution_count": 10,
   "id": "a0839363",
   "metadata": {},
   "outputs": [
    {
     "name": "stdout",
     "output_type": "stream",
     "text": [
      "\n",
      "--- Basic Embedding Usage ---\n",
      "Embedding dimensions: 768\n",
      "First 5 dimensions: [0.003574507776647806, -0.021370429545640945, 0.0047148847952485085, 0.05263378471136093, 0.025505805388092995]\n"
     ]
    }
   ],
   "source": [
    "# --- Basic Embedding Usage ---\n",
    "print(\"\\n--- Basic Embedding Usage ---\")\n",
    "text = \"LangChain makes building LLM applications easier.\"\n",
    "embedding = embeddings_model.embed_query(text)\n",
    "print(f\"Embedding dimensions: {len(embedding)}\")\n",
    "print(f\"First 5 dimensions: {embedding[:5]}\")\n"
   ]
  },
  {
   "cell_type": "code",
   "execution_count": 11,
   "id": "0c258518",
   "metadata": {},
   "outputs": [
    {
     "name": "stdout",
     "output_type": "stream",
     "text": [
      "\n",
      "--- Using Embeddings with a Vector Store (for RAG) ---\n"
     ]
    }
   ],
   "source": [
    "# --- Using Embeddings with a Vector Store (Example: FAISS for RAG) ---\n",
    "print(\"\\n--- Using Embeddings with a Vector Store (for RAG) ---\")\n"
   ]
  },
  {
   "cell_type": "code",
   "execution_count": 15,
   "id": "f890571e",
   "metadata": {},
   "outputs": [
    {
     "name": "stdout",
     "output_type": "stream",
     "text": [
      "Creating vector store...\n",
      "Vector store created.\n",
      "\n",
      "Searching for documents similar to: 'What about human language understanding?'\n",
      "\n",
      "Retrieved Documents:\n",
      "- Natural Language Processing (NLP) deals with human language.\n",
      "- Machine learning is a subset of AI.\n"
     ]
    }
   ],
   "source": [
    "# 1. Create some documents\n",
    "documents = [\n",
    "    Document(page_content=\"Artificial intelligence is a rapidly advancing field.\"),\n",
    "    Document(page_content=\"Machine learning is a subset of AI.\"),\n",
    "    Document(page_content=\"Deep learning uses neural networks for complex patterns.\"),\n",
    "    Document(page_content=\"Reinforcement learning involves agents learning from rewards.\"),\n",
    "    Document(page_content=\"Natural Language Processing (NLP) deals with human language.\")\n",
    "]\n",
    "\n",
    "# 2. Create a vector store from documents and embeddings\n",
    "# This step involves embedding all documents and storing them.\n",
    "print(\"Creating vector store...\")\n",
    "vectorstore = FAISS.from_documents(documents, embeddings_model)\n",
    "print(\"Vector store created.\")\n",
    "\n",
    "# 3. Perform a similarity search\n",
    "query = \"What about human language understanding?\"\n",
    "print(f\"\\nSearching for documents similar to: '{query}'\")\n",
    "docs_found = vectorstore.similarity_search(query, k=2) # k=2 means retrieve top 2 most similar documents\n",
    "\n",
    "print(\"\\nRetrieved Documents:\")\n",
    "for doc in docs_found:\n",
    "    print(f\"- {doc.page_content}\")"
   ]
  },
  {
   "cell_type": "code",
   "execution_count": null,
   "id": "4fc312c8",
   "metadata": {},
   "outputs": [],
   "source": [
    "# --- Integrating with a RAG Chain (Conceptual, but how it often works) ---\n",
    "# In a real RAG system, you'd combine the LLM and the vector store:\n",
    "# query -> embed query -> search vector store -> retrieve docs ->\n",
    "# -> format docs with original query -> send to LLM -> LLM generates answer\n",
    "\n",
    "# from langchain.chains import create_retrieval_chain\n",
    "# from langchain.chains.combine_documents import create_stuff_documents_chain\n",
    "\n",
    "# # This is a simplified example, you'd usually use specific prompt templates for RAG\n",
    "# Youtubeing_prompt = ChatPromptTemplate.from_messages([\n",
    "#     SystemMessage(content=\"Answer the user's question based only on the provided context: {context}\"),\n",
    "#     HumanMessage(content=\"{input}\")\n",
    "# ])\n",
    "\n",
    "# document_chain = create_stuff_documents_chain(llm, Youtubeing_prompt)\n",
    "# retrieval_chain = create_retrieval_chain(vectorstore.as_retriever(), document_chain)\n",
    "\n",
    "# response = retrieval_chain.invoke({\"input\": \"What is reinforcement learning?\"})\n",
    "# print(f\"\\nAnswer from RAG chain: {response['answer']}\")"
   ]
  }
 ],
 "metadata": {
  "kernelspec": {
   "display_name": "Python 3",
   "language": "python",
   "name": "python3"
  },
  "language_info": {
   "codemirror_mode": {
    "name": "ipython",
    "version": 3
   },
   "file_extension": ".py",
   "mimetype": "text/x-python",
   "name": "python",
   "nbconvert_exporter": "python",
   "pygments_lexer": "ipython3",
   "version": "3.12.10"
  }
 },
 "nbformat": 4,
 "nbformat_minor": 5
}
