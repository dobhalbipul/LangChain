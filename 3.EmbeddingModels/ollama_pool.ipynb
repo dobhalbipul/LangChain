{
 "cells": [
  {
   "cell_type": "code",
   "execution_count": null,
   "id": "b056b41d",
   "metadata": {},
   "outputs": [],
   "source": [
    "from langchain_community.llms import Ollama\n",
    "# Initialize LLM\n",
    "llm = Ollama(\n",
    "    model=\"gemma3:1b\",\n",
    "    temperature=0.3,\n",
    "    num_ctx=2048  # Context window size\n",
    ")\n",
    "# Test LLM\n",
    "print(llm.invoke(\"Explain quantum computing in simple terms\"))"
   ]
  },
  {
   "cell_type": "code",
   "execution_count": 10,
   "id": "76625c44",
   "metadata": {},
   "outputs": [
    {
     "name": "stdout",
     "output_type": "stream",
     "text": [
      "Embedding dimensions: 768\n"
     ]
    }
   ],
   "source": [
    "from langchain_community.embeddings import OllamaEmbeddings\n",
    "# Initialize compatible embeddings\n",
    "embedder = OllamaEmbeddings(\n",
    "    model=\"nomic-embed-text\",  # Same model for consistency\n",
    "    num_ctx=512  # Smaller context for embeddings\n",
    ")\n",
    "# Test embeddings\n",
    "embeddings = embedder.embed_query(\"Test sentence\")\n",
    "print(f\"Embedding dimensions: {len(embeddings)}\")"
   ]
  },
  {
   "cell_type": "code",
   "execution_count": null,
   "id": "66ff1a62",
   "metadata": {},
   "outputs": [],
   "source": [
    "# Load CSV data\n",
    "from langchain_community.document_loaders import CSVLoader\n",
    "import os\n",
    "# Load CSV — set Issue column as the main content\n",
    "loader = CSVLoader(\n",
    "    file_path=os.path.abspath(\"tickets.csv\"),\n",
    "    source_column=\"Issue\",  # Column with user queries\n",
    "    metadata_columns=[\"Resolution\"],  # Preserve these as metadata\n",
    "    encoding=\"utf-8-sig\" # Handle BOM in UTF-8 files\n",
    ")\n",
    "\n",
    "documents = loader.load()"
   ]
  },
  {
   "cell_type": "code",
   "execution_count": 16,
   "id": "4a69223b",
   "metadata": {},
   "outputs": [],
   "source": [
    "# RAG pipeline remains the same\n",
    "from langchain_community.vectorstores import FAISS\n",
    "from langchain_core.runnables import RunnablePassthrough\n",
    "from langchain_core.output_parsers import StrOutputParser\n",
    "from langchain_core.prompts import ChatPromptTemplate\n",
    "\n",
    "# Define the prompt template\n",
    "prompt = ChatPromptTemplate.from_template(\n",
    "    \"You are a helpful assistant. Use the provided context to answer the question.\\n\"\n",
    "    \"If no solution exists, respond with: \"\"Please create a support ticket for this issue.\"\n",
    "    \"Context: {context}\\n\"\n",
    "    \"Question: {question}\\n\"\n",
    "    \"Answer:\"    \n",
    ")\n",
    "\n",
    "# Create the vector store with cosine distance strategy\n",
    "vectorstore = FAISS.from_documents(\n",
    "    documents,\n",
    "    embedder,\n",
    "    #distance_strategy=\"COSINE\"\n",
    ")\n",
    "\n",
    "# Create retriever from the vector store\n",
    "retriever = vectorstore.as_retriever()\n",
    "\n",
    "# Create the RAG chain\n",
    "rag_chain = (\n",
    "    {\"context\": retriever, \"question\": RunnablePassthrough()}\n",
    "    | prompt\n",
    "    | llm\n",
    "    | StrOutputParser()\n",
    ")"
   ]
  },
  {
   "cell_type": "code",
   "execution_count": 17,
   "id": "723b0f11",
   "metadata": {},
   "outputs": [
    {
     "data": {
      "text/plain": [
       "'Please create a support ticket for this issue.'"
      ]
     },
     "execution_count": 17,
     "metadata": {},
     "output_type": "execute_result"
    }
   ],
   "source": [
    "# Run Query\n",
    "question = \"Run solve having error\"\n",
    "raw_response = rag_chain.invoke(question)\n",
    "raw_response"
   ]
  }
 ],
 "metadata": {
  "kernelspec": {
   "display_name": "Python 3",
   "language": "python",
   "name": "python3"
  },
  "language_info": {
   "codemirror_mode": {
    "name": "ipython",
    "version": 3
   },
   "file_extension": ".py",
   "mimetype": "text/x-python",
   "name": "python",
   "nbconvert_exporter": "python",
   "pygments_lexer": "ipython3",
   "version": "3.12.10"
  }
 },
 "nbformat": 4,
 "nbformat_minor": 5
}
